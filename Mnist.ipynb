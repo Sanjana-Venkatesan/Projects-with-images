{
  "nbformat": 4,
  "nbformat_minor": 0,
  "metadata": {
    "colab": {
      "private_outputs": true,
      "provenance": []
    },
    "kernelspec": {
      "name": "python3",
      "display_name": "Python 3"
    },
    "language_info": {
      "name": "python"
    }
  },
  "cells": [
    {
      "cell_type": "code",
      "execution_count": null,
      "metadata": {
        "id": "DekbquGcr62L"
      },
      "outputs": [],
      "source": [
        "import torch\n",
        "import torchvision\n",
        "import numpy as np\n",
        "import matplotlib.pyplot as plt\n",
        "import torch.nn as nn\n",
        "import torch.nn.functional as F\n",
        "from torchvision.datasets import FashionMNIST\n",
        "from torchvision.transforms import ToTensor\n",
        "from torchvision.utils import make_grid\n",
        "from torch.utils.data.dataloader import DataLoader\n",
        "from torch.utils.data import random_split\n",
        "%matplotlib inline"
      ]
    },
    {
      "cell_type": "code",
      "source": [
        "dataset=FashionMNIST(root='data/',download=True,transform=ToTensor())\n",
        "test_dataset=FashionMNIST(root='data/',train=False,transform=ToTensor())"
      ],
      "metadata": {
        "id": "7d_2nOSYuNfC"
      },
      "execution_count": null,
      "outputs": []
    },
    {
      "cell_type": "code",
      "source": [
        "val_size=10000\n",
        "train_size=len(dataset)-val_size\n",
        "train_ds,val_ds=random_split(dataset,[train_size,val_size])\n",
        "len(train_ds),len(val_ds)"
      ],
      "metadata": {
        "id": "dEJvNrMuu2A_"
      },
      "execution_count": null,
      "outputs": []
    },
    {
      "cell_type": "code",
      "source": [
        "batch_size=128"
      ],
      "metadata": {
        "id": "mdwTCcAdvTr0"
      },
      "execution_count": null,
      "outputs": []
    },
    {
      "cell_type": "code",
      "source": [
        "train_loader=DataLoader(train_ds,batch_size,shuffle=True)\n",
        "val_loader=DataLoader(val_ds,batch_size*2)\n",
        "test_loader=DataLoader(test_dataset,batch_size*2)"
      ],
      "metadata": {
        "id": "6eWJ0ciSvWXy"
      },
      "execution_count": null,
      "outputs": []
    },
    {
      "cell_type": "code",
      "source": [
        "for images,_ in train_loader:\n",
        "  print(images.shape)\n",
        "  plt.figure(figsize=(16,8))\n",
        "  plt.axis('off')\n",
        "  plt.imshow(make_grid(images,nrow=16).permute((1,2,0)))\n",
        "  print(make_grid(images,nrow=16).shape)\n",
        "  break"
      ],
      "metadata": {
        "id": "tzVtW8sDv_7T"
      },
      "execution_count": null,
      "outputs": []
    },
    {
      "cell_type": "code",
      "source": [
        "def accuracy(outputs,labels):\n",
        "  _,preds=torch.max(outputs,dim=1)\n",
        "  return torch.tensor(torch.sum(preds==labels).item()/len(preds))"
      ],
      "metadata": {
        "id": "Da8tZwvzw3pz"
      },
      "execution_count": null,
      "outputs": []
    },
    {
      "cell_type": "code",
      "source": [
        "class MnistModel(nn.Module):\n",
        "  def __init__(self,in_size,out_size):\n",
        "    super().__init__()\n",
        "    self.l1=nn.Linear(in_size,16)\n",
        "    self.l2=nn.Linear(16,32)\n",
        "    self.l3=nn.Linear(32,out_size)\n",
        "  def forward(self,xb):\n",
        "    out=xb.view(xb.size(0),-1)\n",
        "    out=self.l1(out)\n",
        "    out=F.relu(out)\n",
        "    out=self.l2(out)\n",
        "    out=F.relu(out)\n",
        "    out=self.l3(out)\n",
        "    return out\n",
        "  def training_step(self,batch):\n",
        "    images,labels=batch\n",
        "    out=self(images)\n",
        "    loss=F.cross_entropy(out,labels)\n",
        "    return loss\n",
        "  def validation_step(self,batch):\n",
        "    images,labels=batch\n",
        "    out=self(images)\n",
        "    loss=F.cross_entropy(out,labels)\n",
        "    acc=accuracy(out,labels)\n",
        "    return {'val_loss':loss,'val_acc':acc}\n",
        "  def validation_epoch_end(self,outputs):\n",
        "    batch_losses=[x['val_loss'] for x in outputs]\n",
        "    epoch_loss=torch.stack(batch_losses).mean()\n",
        "    batch_acc=[x['val_acc'] for x in outputs]\n",
        "    epoch_acc=torch.stack(batch_acc).mean()\n",
        "    return {'val_loss':epoch_loss.item(),'val_acc':epoch_acc.item()}\n",
        "  def epoch_end(self,epoch,result):\n",
        "    print(\"Epoch[{}] ,val_loss: {:.4f},val_acc:{:.4f}\".format(epoch,result['val_loss'],result['val_acc']))\n",
        "\n",
        "\n"
      ],
      "metadata": {
        "id": "-Lv1hpc8xP7n"
      },
      "execution_count": null,
      "outputs": []
    },
    {
      "cell_type": "code",
      "source": [
        "def evaluate(model,val_loader):\n",
        "  outputs=[model.validation_step(batch) for batch in val_loader]\n",
        "  return model.validation_epoch_end(outputs)\n",
        "\n",
        "def fit(epochs,lr,model,train_loader,val_loader,opt_func=torch.optim.SGD):\n",
        "  history=[]\n",
        "  optimizer=opt_func(model.parameters(),lr)\n",
        "  for epoch in range(epochs):\n",
        "    for batch in train_loader:\n",
        "      loss=model.training_step(batch)\n",
        "      loss.backward()\n",
        "      optimizer.step()\n",
        "      optimizer.zero_grad()\n",
        "    result=evaluate(model,val_loader)\n",
        "    model.epoch_end(epoch,result)\n",
        "    history.append(result)\n",
        "  return history"
      ],
      "metadata": {
        "id": "LR0qE6C_1FKN"
      },
      "execution_count": null,
      "outputs": []
    },
    {
      "cell_type": "code",
      "source": [
        "input_size=784\n",
        "num_classes=10"
      ],
      "metadata": {
        "id": "Keyx5JPC2f81"
      },
      "execution_count": null,
      "outputs": []
    },
    {
      "cell_type": "code",
      "source": [
        "model=MnistModel(input_size,num_classes)"
      ],
      "metadata": {
        "id": "Itwr613l2niY"
      },
      "execution_count": null,
      "outputs": []
    },
    {
      "cell_type": "code",
      "source": [
        "history=[evaluate(model,val_loader)]\n",
        "history"
      ],
      "metadata": {
        "id": "9dsF92G13MFU"
      },
      "execution_count": null,
      "outputs": []
    },
    {
      "cell_type": "code",
      "source": [
        "history+=fit(2,0.2,model,train_loader,val_loader)"
      ],
      "metadata": {
        "id": "j2jNxLnf3Zmq"
      },
      "execution_count": null,
      "outputs": []
    },
    {
      "cell_type": "code",
      "source": [
        "def predict_img(img,model):\n",
        "  xb=img.unsqueeze(0)\n",
        "  yb=model(xb)\n",
        "  _,preds=torch.max(yb,dim=1)\n",
        "  print(preds)\n",
        "  return preds[0].item()"
      ],
      "metadata": {
        "id": "KVumuiJD4qlm"
      },
      "execution_count": null,
      "outputs": []
    },
    {
      "cell_type": "code",
      "source": [
        "img,label=test_dataset[7843]\n",
        "plt.imshow(img[0],cmap='gray')\n",
        "pred=predict_img(img,model)\n",
        "print('label: ',dataset.classes[label],',predicted: ',dataset.classes[pred])"
      ],
      "metadata": {
        "id": "FIQ0FPt55Em6"
      },
      "execution_count": null,
      "outputs": []
    },
    {
      "cell_type": "code",
      "source": [
        "evaluate(model,test_loader)"
      ],
      "metadata": {
        "id": "ZJKbvOUt8P1m"
      },
      "execution_count": null,
      "outputs": []
    }
  ]
}